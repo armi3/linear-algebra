{
 "cells": [
  {
   "cell_type": "markdown",
   "metadata": {
    "collapsed": false
   },
   "source": [
    "# QR factorization\n",
    "\n",
    "Investigate the use of np.linalg.qr in Python to solve the following problems. You will also use the np.transpose function that we used previously.\n",
    "\n",
    "1. Find the QR factorization of the following matrices."
   ]
  },
  {
   "cell_type": "code",
   "execution_count": 8,
   "metadata": {
    "collapsed": false
   },
   "outputs": [
    {
     "name": "stdout",
     "output_type": "stream",
     "text": [
      "Q = \n",
      "[[-0.8 -0.6]\n",
      " [-0.6  0.8]]\n",
      "\n",
      "R = \n",
      "[[-5.  -0.6]\n",
      " [ 0.   0.8]]\n",
      "\n"
     ]
    }
   ],
   "source": [
    "import numpy as np\n",
    "\n",
    "A = np.array([[4, 0], [3, 1]])\n",
    "Q, R = np.linalg.qr(A)\n",
    "print(\"Q = \\n\" + str(Q) +\"\\n\")\n",
    "print(\"R = \\n\" + str(R) +\"\\n\")"
   ]
  },
  {
   "cell_type": "code",
   "execution_count": 10,
   "metadata": {
    "collapsed": false
   },
   "outputs": [
    {
     "name": "stdout",
     "output_type": "stream",
     "text": [
      "Q = \n",
      "[[-0.70710678 -0.70710678]\n",
      " [-0.70710678  0.70710678]]\n",
      "\n",
      "R = \n",
      "[[-1.41421356 -2.12132034]\n",
      " [ 0.         -0.70710678]]\n",
      "\n"
     ]
    }
   ],
   "source": [
    "B = np.array([[1, 2], [1, 1]])\n",
    "Q, R = np.linalg.qr(B)\n",
    "print(\"Q = \\n\" + str(Q) +\"\\n\")\n",
    "print(\"R = \\n\" + str(R) +\"\\n\")"
   ]
  },
  {
   "cell_type": "code",
   "execution_count": 11,
   "metadata": {
    "collapsed": false
   },
   "outputs": [
    {
     "name": "stdout",
     "output_type": "stream",
     "text": [
      "Q = \n",
      "[[-0.66666667  0.23570226]\n",
      " [-0.33333333 -0.94280904]\n",
      " [-0.66666667  0.23570226]]\n",
      "\n",
      "R = \n",
      "[[-3.         -1.        ]\n",
      " [ 0.          1.41421356]]\n",
      "\n"
     ]
    }
   ],
   "source": [
    "C = np.array([[2, 1], [1, -1], [2, 1]])\n",
    "Q, R = np.linalg.qr(C)\n",
    "print(\"Q = \\n\" + str(Q) +\"\\n\")\n",
    "print(\"R = \\n\" + str(R) +\"\\n\")"
   ]
  },
  {
   "cell_type": "code",
   "execution_count": 9,
   "metadata": {
    "collapsed": false
   },
   "outputs": [
    {
     "name": "stdout",
     "output_type": "stream",
     "text": [
      "Q = \n",
      "[[-0.8  0.  -0.6]\n",
      " [-0.   1.   0. ]\n",
      " [-0.6  0.   0.8]]\n",
      "\n",
      "R = \n",
      "[[ -5. -10.  -5.]\n",
      " [  0.   2.  -2.]\n",
      " [  0.   0.   5.]]\n",
      "\n"
     ]
    }
   ],
   "source": [
    "D = np.array([[4, 8, 1], [0, 2, -2], [3, 6, 7]])\n",
    "Q, R = np.linalg.qr(D)\n",
    "print(\"Q = \\n\" + str(Q) +\"\\n\")\n",
    "print(\"R = \\n\" + str(R) +\"\\n\")"
   ]
  },
  {
   "cell_type": "markdown",
   "metadata": {
    "collapsed": false
   },
   "source": [
    "2. Use QR factorization to solve the following systems $Ax = b$, (remember that $Rx = Q^Tb$ by the properties of the orthonormal matrix)."
   ]
  },
  {
   "cell_type": "code",
   "execution_count": 12,
   "metadata": {
    "collapsed": false
   },
   "outputs": [
    {
     "name": "stdout",
     "output_type": "stream",
     "text": [
      "A = \n",
      "[[ 2  3]\n",
      " [-2 -6]\n",
      " [ 1  0]]\n",
      "\n",
      "b = \n",
      "[[ 3]\n",
      " [-3]\n",
      " [ 6]]\n",
      "\n",
      "Q = \n",
      "[[-0.66666667 -0.33333333]\n",
      " [ 0.66666667 -0.66666667]\n",
      " [-0.33333333 -0.66666667]]\n",
      "\n",
      "R = \n",
      "[[-3. -6.]\n",
      " [ 0.  3.]]\n",
      "\n",
      "x = \n",
      "[[-6.]\n",
      " [-3.]]\n",
      "\n"
     ]
    }
   ],
   "source": [
    "A = np.array([[2, 3],[-2, -6],[1, 0]])\n",
    "b = np.array([[3],[-3],[6]])\n",
    "print(\"A = \\n\" + str(A) +\"\\n\")\n",
    "print(\"b = \\n\" + str(b) +\"\\n\")\n",
    "\n",
    "Q, R = np.linalg.qr(A)\n",
    "print(\"Q = \\n\" + str(Q) +\"\\n\")\n",
    "print(\"R = \\n\" + str(R) +\"\\n\")\n",
    "\n",
    "print(\"x = \\n\" + str(np.dot(np.transpose(Q), b)) +\"\\n\")"
   ]
  },
  {
   "cell_type": "code",
   "execution_count": 13,
   "metadata": {
    "collapsed": false
   },
   "outputs": [
    {
     "name": "stdout",
     "output_type": "stream",
     "text": [
      "A = \n",
      "[[ 2  4]\n",
      " [ 0 -1]\n",
      " [ 2 -1]\n",
      " [ 1  3]]\n",
      "\n",
      "b = \n",
      "[[-1]\n",
      " [ 3]\n",
      " [ 2]\n",
      " [ 1]]\n",
      "\n",
      "Q = \n",
      "[[-0.66666667  0.47140452]\n",
      " [-0.         -0.23570226]\n",
      " [-0.66666667 -0.70710678]\n",
      " [-0.33333333  0.47140452]]\n",
      "\n",
      "R = \n",
      "[[-3.         -3.        ]\n",
      " [ 0.          4.24264069]]\n",
      "\n",
      "x = \n",
      "[[-1.        ]\n",
      " [-2.12132034]]\n",
      "\n"
     ]
    }
   ],
   "source": [
    "A = np.array([[2, 4],[0, -1],[2, -1],[1,3]])\n",
    "b = np.array([[-1],[3],[2],[1]])\n",
    "print(\"A = \\n\" + str(A) +\"\\n\")\n",
    "print(\"b = \\n\" + str(b) +\"\\n\")\n",
    "\n",
    "Q, R = np.linalg.qr(A)\n",
    "print(\"Q = \\n\" + str(Q) +\"\\n\")\n",
    "print(\"R = \\n\" + str(R) +\"\\n\")\n",
    "\n",
    "print(\"x = \\n\" + str(np.dot(np.transpose(Q), b)) +\"\\n\")"
   ]
  },
  {
   "cell_type": "code",
   "execution_count": 14,
   "metadata": {
    "collapsed": false
   },
   "outputs": [
    {
     "name": "stdout",
     "output_type": "stream",
     "text": [
      "A = \n",
      "[[ 3 -1  2]\n",
      " [ 4  1  0]\n",
      " [-3  2  1]\n",
      " [ 1  1  5]\n",
      " [-2  0  3]]\n",
      "\n",
      "b = \n",
      "[[10]\n",
      " [10]\n",
      " [-5]\n",
      " [15]\n",
      " [ 0]]\n",
      "\n",
      "Q = \n",
      "[[-0.48038446  0.26969003 -0.4057325 ]\n",
      " [-0.64051262 -0.54936859  0.22364767]\n",
      " [ 0.48038446 -0.65924231  0.0310072 ]\n",
      " [-0.16012815 -0.42950635 -0.69139457]\n",
      " [ 0.32025631  0.07990816 -0.55351149]]\n",
      "\n",
      "R = \n",
      "[[-6.244998    0.64051262 -0.32025631]\n",
      " [ 0.         -2.56704959 -2.02766952]\n",
      " [ 0.          0.         -5.89796509]]\n",
      "\n",
      "x = \n",
      "[[-16.01281538]\n",
      " [ -5.94316928]\n",
      " [-12.34680276]]\n",
      "\n"
     ]
    }
   ],
   "source": [
    "A = np.array([[3, -1, 2],[4, 1, 0],[-3, 2, 1],[1, 1, 5],[-2, 0, 3]])\n",
    "b = np.array([[10],[10],[-5],[15],[0]])\n",
    "print(\"A = \\n\" + str(A) +\"\\n\")\n",
    "print(\"b = \\n\" + str(b) +\"\\n\")\n",
    "\n",
    "Q, R = np.linalg.qr(A)\n",
    "print(\"Q = \\n\" + str(Q) +\"\\n\")\n",
    "print(\"R = \\n\" + str(R) +\"\\n\")\n",
    "\n",
    "print(\"x = \\n\" + str(np.dot(np.transpose(Q), b)) +\"\\n\")"
   ]
  },
  {
   "cell_type": "code",
   "execution_count": 15,
   "metadata": {
    "collapsed": false
   },
   "outputs": [
    {
     "name": "stdout",
     "output_type": "stream",
     "text": [
      "A = \n",
      "[[ 4  2  3  0]\n",
      " [-2  3 -1  1]\n",
      " [ 1  3 -4  2]\n",
      " [ 1  0  1 -1]\n",
      " [ 3  1  3 -2]]\n",
      "\n",
      "b = \n",
      "[[10]\n",
      " [ 0]\n",
      " [ 2]\n",
      " [ 0]\n",
      " [ 5]]\n",
      "\n",
      "Q = \n",
      "[[-0.71842121 -0.21150374  0.2258696   0.6085938 ]\n",
      " [ 0.3592106  -0.7684636   0.52281184 -0.05163138]\n",
      " [-0.1796053  -0.59926061 -0.76877528 -0.13204504]\n",
      " [-0.1796053   0.056401    0.05246724 -0.40711782]\n",
      " [-0.53881591 -0.04935087  0.28615111 -0.66615837]]\n",
      "\n",
      "R = \n",
      "[[-5.56776436 -1.43684242 -3.59210604  1.25723711]\n",
      " [ 0.         -4.57553099  2.43934318 -1.92468407]\n",
      " [ 0.          0.          4.14081864 -1.63950817]\n",
      " [ 0.          0.          0.          1.42371311]]\n",
      "\n",
      "x = \n",
      "[[-10.23750222]\n",
      " [ -3.56031302]\n",
      " [  2.15190099]\n",
      " [  2.49105611]]\n",
      "\n"
     ]
    }
   ],
   "source": [
    "A = np.array([[4, 2, 3, 0],[-2, 3, -1, 1],[1, 3, -4, 2],[1, 0, 1, -1],[3, 1, 3, -2]])\n",
    "b = np.array([[10],[0],[2],[0],[5]])\n",
    "print(\"A = \\n\" + str(A) +\"\\n\")\n",
    "print(\"b = \\n\" + str(b) +\"\\n\")\n",
    "\n",
    "Q, R = np.linalg.qr(A)\n",
    "print(\"Q = \\n\" + str(Q) +\"\\n\")\n",
    "print(\"R = \\n\" + str(R) +\"\\n\")\n",
    "\n",
    "print(\"x = \\n\" + str(np.dot(np.transpose(Q), b)) +\"\\n\")"
   ]
  },
  {
   "cell_type": "code",
   "execution_count": 0,
   "metadata": {
    "collapsed": false
   },
   "outputs": [
   ],
   "source": [
   ]
  }
 ],
 "metadata": {
  "kernelspec": {
   "display_name": "Python 3 (system-wide)",
   "language": "python",
   "metadata": {
    "cocalc": {
     "description": "Python 3 programming language",
     "priority": 100,
     "url": "https://www.python.org/"
    }
   },
   "name": "python3"
  },
  "language_info": {
   "codemirror_mode": {
    "name": "ipython",
    "version": 3
   },
   "file_extension": ".py",
   "mimetype": "text/x-python",
   "name": "python",
   "nbconvert_exporter": "python",
   "pygments_lexer": "ipython3",
   "version": "3.6.8"
  }
 },
 "nbformat": 4,
 "nbformat_minor": 0
}