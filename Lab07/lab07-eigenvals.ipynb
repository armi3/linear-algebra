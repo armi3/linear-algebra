{
 "cells": [
  {
   "cell_type": "markdown",
   "metadata": {
    "collapsed": false
   },
   "source": [
    "# Eigenvalues and eigenvectors\n",
    "You must print on console each change or operation performed."
   ]
  },
  {
   "cell_type": "code",
   "execution_count": 2,
   "metadata": {
    "collapsed": false
   },
   "outputs": [
   ],
   "source": [
    "import numpy as np\n",
    "import sympy as sp\n",
    "\n",
    "A = np.array([[1,1,0],[1,0,1],[0,1,0]])\n",
    "B = np.array([[2,0,1,1], [1,1,2,0],[3,7,-3,1],[1,2,0,1]])\n",
    "C = np.array([[1,1,0,1],[1,0,1,0],[0,1,0,0],[0,1,0,0]])"
   ]
  },
  {
   "cell_type": "markdown",
   "metadata": {
    "collapsed": false
   },
   "source": [
    "1. Find the Eigenvalues and Eigenvectors (using numpy and sympy) of A, B and C."
   ]
  },
  {
   "cell_type": "code",
   "execution_count": 2,
   "metadata": {
    "collapsed": false
   },
   "outputs": [
    {
     "name": "stdout",
     "output_type": "stream",
     "text": [
      "Eigenvalues w/numpy: [-1.2469796   1.80193774  0.44504187]\n",
      "\n",
      "Eigenvalues w/sympy: {1/3 - (7/2 + 21*sqrt(3)*I/2)**(1/3)/3 - 7/(3*(7/2 + 21*sqrt(3)*I/2)**(1/3)): 1, 1/3 - (-1/2 + sqrt(3)*I/2)*(7/2 + 21*sqrt(3)*I/2)**(1/3)/3 - 7/(3*(-1/2 + sqrt(3)*I/2)*(7/2 + 21*sqrt(3)*I/2)**(1/3)): 1, 1/3 - 7/(3*(-1/2 - sqrt(3)*I/2)*(7/2 + 21*sqrt(3)*I/2)**(1/3)) - (-1/2 - sqrt(3)*I/2)*(7/2 + 21*sqrt(3)*I/2)**(1/3)/3: 1}\n",
      "\n",
      "Eigenvectors w/numpy: \n",
      " (array([-1.2469796 ,  1.80193774,  0.44504187]), array([[ 0.32798528,  0.73697623, -0.59100905],\n",
      "       [-0.73697623,  0.59100905,  0.32798528],\n",
      "       [ 0.59100905,  0.32798528,  0.73697623]]))\n",
      "\n"
     ]
    },
    {
     "name": "stdout",
     "output_type": "stream",
     "text": [
      "Eigenvectors w/sympy: \n",
      " [(1/3 - 7/(3*(-1/2 - sqrt(3)*I/2)*(7/2 + 21*sqrt(3)*I/2)**(1/3)) - (-1/2 - sqrt(3)*I/2)*(7/2 + 21*sqrt(3)*I/2)**(1/3)/3, 1, [Matrix([\n",
      "[-1 + (-1/3 + (-1/2 - sqrt(3)*I/2)*(7/2 + 21*sqrt(3)*I/2)**(1/3)/3 + 7/(3*(-1/2 - sqrt(3)*I/2)*(7/2 + 21*sqrt(3)*I/2)**(1/3)))**2],\n",
      "[           1/3 - 7/(3*(-1/2 - sqrt(3)*I/2)*(7/2 + 21*sqrt(3)*I/2)**(1/3)) - (-1/2 - sqrt(3)*I/2)*(7/2 + 21*sqrt(3)*I/2)**(1/3)/3],\n",
      "[                                                                                                                               1]])]), (1/3 - (-1/2 + sqrt(3)*I/2)*(7/2 + 21*sqrt(3)*I/2)**(1/3)/3 - 7/(3*(-1/2 + sqrt(3)*I/2)*(7/2 + 21*sqrt(3)*I/2)**(1/3)), 1, [Matrix([\n",
      "[-1 + (-1/3 + 7/(3*(-1/2 + sqrt(3)*I/2)*(7/2 + 21*sqrt(3)*I/2)**(1/3)) + (-1/2 + sqrt(3)*I/2)*(7/2 + 21*sqrt(3)*I/2)**(1/3)/3)**2],\n",
      "[           1/3 - (-1/2 + sqrt(3)*I/2)*(7/2 + 21*sqrt(3)*I/2)**(1/3)/3 - 7/(3*(-1/2 + sqrt(3)*I/2)*(7/2 + 21*sqrt(3)*I/2)**(1/3))],\n",
      "[                                                                                                                               1]])]), (1/3 - (7/2 + 21*sqrt(3)*I/2)**(1/3)/3 - 7/(3*(7/2 + 21*sqrt(3)*I/2)**(1/3)), 1, [Matrix([\n",
      "[-1 + (-1/3 + 7/(3*(7/2 + 21*sqrt(3)*I/2)**(1/3)) + (7/2 + 21*sqrt(3)*I/2)**(1/3)/3)**2],\n",
      "[           1/3 - (7/2 + 21*sqrt(3)*I/2)**(1/3)/3 - 7/(3*(7/2 + 21*sqrt(3)*I/2)**(1/3))],\n",
      "[                                                                                     1]])])]\n",
      "\n"
     ]
    }
   ],
   "source": [
    "#A\n",
    "print(\"Eigenvalues w/numpy: \" + str(np.linalg.eigvals(A))+\"\\n\")\n",
    "print(\"Eigenvalues w/sympy: \" + str(sp.Matrix(A).eigenvals())+\"\\n\")\n",
    "\n",
    "print(\"Eigenvectors w/numpy: \\n \" + str(np.linalg.eig(A))+\"\\n\")\n",
    "print(\"Eigenvectors w/sympy: \\n \" + str(sp.Matrix(A).eigenvects())+\"\\n\")\n"
   ]
  },
  {
   "cell_type": "code",
   "execution_count": 4,
   "metadata": {
    "collapsed": false
   },
   "outputs": [
    {
     "name": "stdout",
     "output_type": "stream",
     "text": [
      "Eigenvalues w/numpy: [-5.37038611+0.j          4.56806166+0.j          0.90116223+0.40768924j\n",
      "  0.90116223-0.40768924j]\n",
      "\n",
      "Eigenvalues w/sympy: {1/4 - sqrt(203/12 + 236/(9*(-7637/108 + sqrt(395497)/12)**(1/3)) + 2*(-7637/108 + sqrt(395497)/12)**(1/3))/2 + sqrt(203/6 - 2*(-7637/108 + sqrt(395497)/12)**(1/3) + 259/(4*sqrt(203/12 + 236/(9*(-7637/108 + sqrt(395497)/12)**(1/3)) + 2*(-7637/108 + sqrt(395497)/12)**(1/3))) - 236/(9*(-7637/108 + sqrt(395497)/12)**(1/3)))/2: 1, 1/4 - sqrt(203/6 - 2*(-7637/108 + sqrt(395497)/12)**(1/3) + 259/(4*sqrt(203/12 + 236/(9*(-7637/108 + sqrt(395497)/12)**(1/3)) + 2*(-7637/108 + sqrt(395497)/12)**(1/3))) - 236/(9*(-7637/108 + sqrt(395497)/12)**(1/3)))/2 - sqrt(203/12 + 236/(9*(-7637/108 + sqrt(395497)/12)**(1/3)) + 2*(-7637/108 + sqrt(395497)/12)**(1/3))/2: 1, 1/4 + sqrt(203/12 + 236/(9*(-7637/108 + sqrt(395497)/12)**(1/3)) + 2*(-7637/108 + sqrt(395497)/12)**(1/3))/2 + sqrt(203/6 - 2*(-7637/108 + sqrt(395497)/12)**(1/3) - 259/(4*sqrt(203/12 + 236/(9*(-7637/108 + sqrt(395497)/12)**(1/3)) + 2*(-7637/108 + sqrt(395497)/12)**(1/3))) - 236/(9*(-7637/108 + sqrt(395497)/12)**(1/3)))/2: 1, 1/4 - sqrt(203/6 - 2*(-7637/108 + sqrt(395497)/12)**(1/3) - 259/(4*sqrt(203/12 + 236/(9*(-7637/108 + sqrt(395497)/12)**(1/3)) + 2*(-7637/108 + sqrt(395497)/12)**(1/3))) - 236/(9*(-7637/108 + sqrt(395497)/12)**(1/3)))/2 + sqrt(203/12 + 236/(9*(-7637/108 + sqrt(395497)/12)**(1/3)) + 2*(-7637/108 + sqrt(395497)/12)**(1/3))/2: 1}\n",
      "\n",
      "Eigenvectors w/numpy: \n",
      " (array([-5.37038611+0.j        ,  4.56806166+0.j        ,\n",
      "        0.90116223+0.40768924j,  0.90116223-0.40768924j]), array([[-0.14291007+0.j        ,  0.410346  +0.j        ,\n",
      "        -0.66514863+0.j        , -0.66514863-0.j        ],\n",
      "       [-0.27418516+0.j        ,  0.48792178+0.j        ,\n",
      "         0.38092093+0.10643297j,  0.38092093-0.10643297j],\n",
      "       [ 0.94478769+0.j        ,  0.6652945 +0.j        ,\n",
      "         0.29205384+0.07238888j,  0.29205384-0.07238888j],\n",
      "       [ 0.10851468+0.j        ,  0.38849933+0.j        ,\n",
      "         0.4388366 -0.34356282j,  0.4388366 +0.34356282j]]))\n",
      "\n"
     ]
    }
   ],
   "source": [
    "#B\n",
    "print(\"Eigenvalues w/numpy: \" + str(np.linalg.eigvals(B))+\"\\n\")\n",
    "print(\"Eigenvalues w/sympy: \" + str(sp.Matrix(B).eigenvals())+\"\\n\")\n",
    "\n",
    "print(\"Eigenvectors w/numpy: \\n \" + str(np.linalg.eig(B))+\"\\n\")\n",
    "# simpy takes too long with this one!! too much for cocalc\n",
    "# print(\"Eigenvectors w/sympy: \\n \" + str(sp.Matrix(B).eigenvects())+\"\\n\")"
   ]
  },
  {
   "cell_type": "code",
   "execution_count": 5,
   "metadata": {
    "collapsed": false
   },
   "outputs": [
    {
     "name": "stdout",
     "output_type": "stream",
     "text": [
      "Eigenvalues w/numpy: [ 2.00000000e+00 -1.00000000e+00 -8.00331252e-17  0.00000000e+00]\n",
      "\n",
      "Eigenvalues w/sympy: {2: 1, -1: 1, 0: 2}\n",
      "\n",
      "Eigenvectors w/numpy: \n",
      " (array([ 2.00000000e+00, -1.00000000e+00, -8.00331252e-17,  0.00000000e+00]), array([[-7.74596669e-01, -6.72848815e-17,  5.77350269e-01,\n",
      "         5.77350269e-01],\n",
      "       [-5.16397779e-01, -5.77350269e-01, -1.62158452e-16,\n",
      "        -2.01765883e-16],\n",
      "       [-2.58198890e-01,  5.77350269e-01, -5.77350269e-01,\n",
      "        -5.77350269e-01],\n",
      "       [-2.58198890e-01,  5.77350269e-01, -5.77350269e-01,\n",
      "        -5.77350269e-01]]))\n",
      "\n",
      "Eigenvectors w/sympy: \n",
      " [(-1, 1, [Matrix([\n",
      "[ 0],\n",
      "[-1],\n",
      "[ 1],\n",
      "[ 1]])]), (0, 2, [Matrix([\n",
      "[-1],\n",
      "[ 0],\n",
      "[ 1],\n",
      "[ 1]])]), (2, 1, [Matrix([\n",
      "[3],\n",
      "[2],\n",
      "[1],\n",
      "[1]])])]\n",
      "\n"
     ]
    }
   ],
   "source": [
    "#C\n",
    "print(\"Eigenvalues w/numpy: \" + str(np.linalg.eigvals(C))+\"\\n\")\n",
    "print(\"Eigenvalues w/sympy: \" + str(sp.Matrix(C).eigenvals())+\"\\n\")\n",
    "\n",
    "print(\"Eigenvectors w/numpy: \\n \" + str(np.linalg.eig(C))+\"\\n\")\n",
    "print(\"Eigenvectors w/sympy: \\n \" + str(sp.Matrix(C).eigenvects())+\"\\n\")"
   ]
  },
  {
   "cell_type": "markdown",
   "metadata": {
    "collapsed": false
   },
   "source": [
    "2. Explain what differences you see in the output between the two commands."
   ]
  },
  {
   "cell_type": "markdown",
   "metadata": {
    "collapsed": false
   },
   "source": [
    "Numpy expresses the results with scientific notation while Sympy focuses on showing the process."
   ]
  },
  {
   "cell_type": "markdown",
   "metadata": {
    "collapsed": false
   },
   "source": [
    "3. Perform the diagonalization and find the characteristic polynomial of A and C."
   ]
  },
  {
   "cell_type": "code",
   "execution_count": 6,
   "metadata": {
    "collapsed": false
   },
   "outputs": [
    {
     "name": "stdout",
     "output_type": "stream",
     "text": [
      "Diag = \n",
      " (Matrix([\n",
      "[(7**(1/3)*(56*2**(1/3) + 7**(1/3)*(1 - sqrt(3)*I)*(1 + 3*sqrt(3)*I)**(1/3)*(4 + 2**(2/3)*7**(1/3)*(1 - sqrt(3)*I)*(1 + 3*sqrt(3)*I)**(1/3)))**2/1008 - (1 - sqrt(3)*I)**2*(1 + 3*sqrt(3)*I)**(2/3))/((1 - sqrt(3)*I)**2*(1 + 3*sqrt(3)*I)**(2/3)), (-(1 + sqrt(3)*I)**2*(1 + 3*sqrt(3)*I)**(2/3) + 7**(1/3)*(56*2**(1/3) + 7**(1/3)*(1 + sqrt(3)*I)*(1 + 3*sqrt(3)*I)**(1/3)*(4 + 2**(2/3)*7**(1/3)*(1 + sqrt(3)*I)*(1 + 3*sqrt(3)*I)**(1/3)))**2/1008)/((1 + sqrt(3)*I)**2*(1 + 3*sqrt(3)*I)**(2/3)), -1 + (2*2**(1/3)*7**(2/3) - 2*(1 + 3*sqrt(3)*I)**(1/3) + 28**(1/3)*(1 + 3*sqrt(3)*I)**(2/3))**2/(36*(1 + 3*sqrt(3)*I)**(2/3))],\n",
      "[                                                                       7**(2/3)*(2*2**(1/3)/3 + (1 - sqrt(3)*I)*(4 + 2**(2/3)*(1 - sqrt(3)*I)*(7 + 21*sqrt(3)*I)**(1/3))*(7 + 21*sqrt(3)*I)**(1/3)/84)/((1 - sqrt(3)*I)*(1 + 3*sqrt(3)*I)**(1/3)),                                                                         7**(2/3)*(2*2**(1/3)/3 + (1 + sqrt(3)*I)*(4 + 2**(2/3)*(1 + sqrt(3)*I)*(7 + 21*sqrt(3)*I)**(1/3))*(7 + 21*sqrt(3)*I)**(1/3)/84)/((1 + sqrt(3)*I)*(1 + 3*sqrt(3)*I)**(1/3)),                                           1/3 - (28 + 84*sqrt(3)*I)**(1/3)/6 - 2**(1/3)*7**(2/3)/(3*(1 + 3*sqrt(3)*I)**(1/3))],\n",
      "[                                                                                                                                                                                                                                                1,                                                                                                                                                                                                                                                  1,                                                                                                                             1]]), Matrix([\n",
      "[7**(2/3)*(2*2**(1/3)/3 + (1 - sqrt(3)*I)*(4 + 2**(2/3)*(1 - sqrt(3)*I)*(7 + 21*sqrt(3)*I)**(1/3))*(7 + 21*sqrt(3)*I)**(1/3)/84)/((1 - sqrt(3)*I)*(1 + 3*sqrt(3)*I)**(1/3)),                                                                                                                                                                          0,                                                                                           0],\n",
      "[                                                                                                                                                                         0, 7**(2/3)*(2*2**(1/3)/3 + (1 + sqrt(3)*I)*(4 + 2**(2/3)*(1 + sqrt(3)*I)*(7 + 21*sqrt(3)*I)**(1/3))*(7 + 21*sqrt(3)*I)**(1/3)/84)/((1 + sqrt(3)*I)*(1 + 3*sqrt(3)*I)**(1/3)),                                                                                           0],\n",
      "[                                                                                                                                                                         0,                                                                                                                                                                          0, 1/3 - 28**(1/3)*(1 + 3*sqrt(3)*I)**(1/3)/6 - 2**(1/3)*7**(2/3)/(3*(1 + 3*sqrt(3)*I)**(1/3))]]))\n",
      "\n",
      "Characteristic polynomial: \n",
      " PurePoly(lambda**3 - lambda**2 - 2*lambda + 1, lambda, domain='ZZ')\n",
      "\n",
      "Not diagonalizable.\n",
      "Characteristic polynomial: \n",
      " PurePoly(lambda**4 - lambda**3 - 2*lambda**2, lambda, domain='ZZ')\n",
      "\n"
     ]
    }
   ],
   "source": [
    "# A\n",
    "print(\"Diag = \\n \" + str(sp.Matrix(A).diagonalize())+\"\\n\")\n",
    "print(\"Characteristic polynomial: \\n \" + str(sp.Matrix(A).charpoly())+\"\\n\")\n",
    "\n",
    "#C\n",
    "try:\n",
    "  print(\"Diag = \\n \" + str(sp.Matrix(C).diagonalize())+\"\\n\")\n",
    "except:\n",
    "  print(\"Not diagonalizable.\")\n",
    "print(\"Characteristic polynomial: \\n \" + str(sp.Matrix(C).charpoly())+\"\\n\")"
   ]
  },
  {
   "cell_type": "markdown",
   "metadata": {
    "collapsed": false
   },
   "source": [
    "4. Display only the eigenvectors with the sympy command of A, B and C."
   ]
  },
  {
   "cell_type": "code",
   "execution_count": 8,
   "metadata": {
    "collapsed": false
   },
   "outputs": [
    {
     "name": "stdout",
     "output_type": "stream",
     "text": [
      "Eigenvectors of A: \n",
      " [(1/3 - 7/(3*(-1/2 - sqrt(3)*I/2)*(7/2 + 21*sqrt(3)*I/2)**(1/3)) - (-1/2 - sqrt(3)*I/2)*(7/2 + 21*sqrt(3)*I/2)**(1/3)/3, 1, [Matrix([\n",
      "[-1 + (-1/3 + (-1/2 - sqrt(3)*I/2)*(7/2 + 21*sqrt(3)*I/2)**(1/3)/3 + 7/(3*(-1/2 - sqrt(3)*I/2)*(7/2 + 21*sqrt(3)*I/2)**(1/3)))**2],\n",
      "[           1/3 - 7/(3*(-1/2 - sqrt(3)*I/2)*(7/2 + 21*sqrt(3)*I/2)**(1/3)) - (-1/2 - sqrt(3)*I/2)*(7/2 + 21*sqrt(3)*I/2)**(1/3)/3],\n",
      "[                                                                                                                               1]])]), (1/3 - (-1/2 + sqrt(3)*I/2)*(7/2 + 21*sqrt(3)*I/2)**(1/3)/3 - 7/(3*(-1/2 + sqrt(3)*I/2)*(7/2 + 21*sqrt(3)*I/2)**(1/3)), 1, [Matrix([\n",
      "[-1 + (-1/3 + 7/(3*(-1/2 + sqrt(3)*I/2)*(7/2 + 21*sqrt(3)*I/2)**(1/3)) + (-1/2 + sqrt(3)*I/2)*(7/2 + 21*sqrt(3)*I/2)**(1/3)/3)**2],\n",
      "[           1/3 - (-1/2 + sqrt(3)*I/2)*(7/2 + 21*sqrt(3)*I/2)**(1/3)/3 - 7/(3*(-1/2 + sqrt(3)*I/2)*(7/2 + 21*sqrt(3)*I/2)**(1/3))],\n",
      "[                                                                                                                               1]])]), (1/3 - (7/2 + 21*sqrt(3)*I/2)**(1/3)/3 - 7/(3*(7/2 + 21*sqrt(3)*I/2)**(1/3)), 1, [Matrix([\n",
      "[-1 + (-1/3 + 7/(3*(7/2 + 21*sqrt(3)*I/2)**(1/3)) + (7/2 + 21*sqrt(3)*I/2)**(1/3)/3)**2],\n",
      "[           1/3 - (7/2 + 21*sqrt(3)*I/2)**(1/3)/3 - 7/(3*(7/2 + 21*sqrt(3)*I/2)**(1/3))],\n",
      "[                                                                                     1]])])]\n",
      "\n",
      "Eigenvectors of C: \n",
      " [(-1, 1, [Matrix([\n",
      "[ 0],\n",
      "[-1],\n",
      "[ 1],\n",
      "[ 1]])]), (0, 2, [Matrix([\n",
      "[-1],\n",
      "[ 0],\n",
      "[ 1],\n",
      "[ 1]])]), (2, 1, [Matrix([\n",
      "[3],\n",
      "[2],\n",
      "[1],\n",
      "[1]])])]\n",
      "\n"
     ]
    }
   ],
   "source": [
    "print(\"Eigenvectors of A: \\n \" + str(sp.Matrix(A).eigenvects())+\"\\n\")\n",
    "# simpy takes too long with this one!! too much for cocalc\n",
    "# print(\"Eigenvectors of B: \\n \" + str(sp.Matrix(B).eigenvects())+\"\\n\")\n",
    "print(\"Eigenvectors of C: \\n \" + str(sp.Matrix(C).eigenvects())+\"\\n\")"
   ]
  },
  {
   "cell_type": "markdown",
   "metadata": {
    "collapsed": false
   },
   "source": [
    "5. Measure the time in which sp.Matrix (). Eigenvects () and np.linalg.eig run. Determine if one method is faster than the other. (use the same time function you used in the previous Python exercise)."
   ]
  },
  {
   "cell_type": "code",
   "execution_count": 10,
   "metadata": {
    "collapsed": false
   },
   "outputs": [
    {
     "name": "stdout",
     "output_type": "stream",
     "text": [
      "time w/numpy = 0.00043702125549316406\n",
      "\n"
     ]
    },
    {
     "name": "stdout",
     "output_type": "stream",
     "text": [
      "time w/sympy = 1.105853796005249\n",
      "\n"
     ]
    }
   ],
   "source": [
    "import time as t\n",
    "\n",
    "#A\n",
    "#Numpy\n",
    "init = t.time()\n",
    "np.linalg.eig(A)\n",
    "end = t.time()\n",
    "print(\"time w/numpy = \"+str(end-init)+\"\\n\")\n",
    "\n",
    "#Sympy\n",
    "init = t.time()\n",
    "sp.Matrix(A).eigenvects()\n",
    "end = t.time()\n",
    "print(\"time w/sympy = \"+str(end-init)+\"\\n\")"
   ]
  },
  {
   "cell_type": "code",
   "execution_count": 14,
   "metadata": {
    "collapsed": false
   },
   "outputs": [
    {
     "name": "stdout",
     "output_type": "stream",
     "text": [
      "time w/numpy = 0.0006000995635986328\n",
      "\n",
      "time w/sympy = takes too much, can't compile in cocalc!\n"
     ]
    }
   ],
   "source": [
    "#B\n",
    "#Numpy\n",
    "init = t.time()\n",
    "np.linalg.eig(B)\n",
    "end = t.time()\n",
    "print(\"time w/numpy = \"+str(end-init)+\"\\n\")\n",
    "\n",
    "#Sympy\n",
    "#init = t.time()\n",
    "#sp.Matrix(B).eigenvects()\n",
    "#end = t.time()\n",
    "#print(\"time w/sympy = \"+str(end-init)+\"\\n\")\n",
    "print(\"time w/sympy = takes too much, can't compile in cocalc!\")"
   ]
  },
  {
   "cell_type": "code",
   "execution_count": 13,
   "metadata": {
    "collapsed": false
   },
   "outputs": [
    {
     "name": "stdout",
     "output_type": "stream",
     "text": [
      "time w/numpy = 0.00046515464782714844\n",
      "\n",
      "time w/sympy = 0.018541336059570312\n",
      "\n"
     ]
    }
   ],
   "source": [
    "#C\n",
    "#Numpy\n",
    "init = t.time()\n",
    "np.linalg.eig(C)\n",
    "end = t.time()\n",
    "print(\"time w/numpy = \"+str(end-init)+\"\\n\")\n",
    "\n",
    "#Sympy\n",
    "init = t.time()\n",
    "sp.Matrix(C).eigenvects()\n",
    "end = t.time()\n",
    "print(\"time w/sympy = \"+str(end-init)+\"\\n\")"
   ]
  }
 ],
 "metadata": {
  "kernelspec": {
   "display_name": "Python 3 (system-wide)",
   "language": "python",
   "metadata": {
    "cocalc": {
     "description": "Python 3 programming language",
     "priority": 100,
     "url": "https://www.python.org/"
    }
   },
   "name": "python3"
  },
  "language_info": {
   "codemirror_mode": {
    "name": "ipython",
    "version": 3
   },
   "file_extension": ".py",
   "mimetype": "text/x-python",
   "name": "python",
   "nbconvert_exporter": "python",
   "pygments_lexer": "ipython3",
   "version": "3.6.8"
  }
 },
 "nbformat": 4,
 "nbformat_minor": 0
}