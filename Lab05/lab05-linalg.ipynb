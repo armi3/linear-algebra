{
 "cells": [
  {
   "cell_type": "markdown",
   "metadata": {
    "collapsed": false
   },
   "source": [
    "# More matrix operations\n",
    "\n",
    "1. If possible, calculate the inverses (using the 3 methods: numpy, sympy and FERR) of matrices A, B and C. (25 pts.)"
   ]
  },
  {
   "cell_type": "markdown",
   "metadata": {
    "collapsed": false
   },
   "source": [
    "### Método 1 (numpy)"
   ]
  },
  {
   "cell_type": "code",
   "execution_count": 7,
   "metadata": {
    "collapsed": false
   },
   "outputs": [
    {
     "name": "stdout",
     "output_type": "stream",
     "text": [
      "\n",
      " A^-1 = \n",
      "[[ 1.  0. -2.]\n",
      " [-0. -0.  1.]\n",
      " [-1.  1.  2.]]\n",
      "\n",
      " B^-1 = \n",
      "[[ 0.46296296  0.12962963 -0.01851852]\n",
      " [-0.16666667 -0.16666667  0.16666667]\n",
      " [ 0.07407407 -0.25925926  0.03703704]]\n",
      "\n",
      " C^-1 = \n",
      "Not invertible.\n"
     ]
    }
   ],
   "source": [
    "import numpy as np\n",
    "\n",
    "a = np.array([[1, 2, 0], [1, 0, 1], [0, 1, 0]])\n",
    "b = np.array([[2, 0, 1], [1, 1, -4], [3, 7, -3]])\n",
    "c = np.array([[1, 1, 0,], [1, 0, 1], [0, 1, 0], [1, 2, 3]])\n",
    "\n",
    "def is_square (m):\n",
    "    return all (len (row) == len (m) for row in m)\n",
    "\n",
    "def find_inverse(matrix):\n",
    "    if is_square(matrix):\n",
    "        if np.linalg.det(matrix) != 0:\n",
    "            return np.linalg.inv(matrix)\n",
    "    else:\n",
    "        return \"Not invertible.\"\n",
    "\n",
    "print(\"\\n A^-1 = \\n\" + str(find_inverse(a)))\n",
    "print(\"\\n B^-1 = \\n\" + str(find_inverse(b)))\n",
    "print(\"\\n C^-1 = \\n\" + str(find_inverse(c)))"
   ]
  },
  {
   "cell_type": "markdown",
   "metadata": {
    "collapsed": false
   },
   "source": [
    "### Método 2 (simpy)"
   ]
  },
  {
   "cell_type": "code",
   "execution_count": 10,
   "metadata": {
    "collapsed": false
   },
   "outputs": [
    {
     "name": "stdout",
     "output_type": "stream",
     "text": [
      "\n",
      " A^-1 = \n",
      "Matrix([[1, 0, -2], [0, 0, 1], [-1, 1, 2]])\n",
      "\n",
      " B^-1 = \n",
      "Matrix([[25/54, 7/54, -1/54], [-1/6, -1/6, 1/6], [2/27, -7/27, 1/27]])\n",
      "\n",
      " C^-1 = \n",
      " No es invertible.\n"
     ]
    }
   ],
   "source": [
    "import sympy as sp\n",
    "\n",
    "inversa1 = sp.Matrix(a).inv()  #sympy\n",
    "print(\"\\n A^-1 = \\n\" + str(inversa1))\n",
    "inversa2 = sp.Matrix(b).inv()  #sympy\n",
    "print(\"\\n B^-1 = \\n\" + str(inversa2))\n",
    "print(\"\\n C^-1 = \\n No es invertible.\")\n"
   ]
  },
  {
   "cell_type": "markdown",
   "metadata": {
    "collapsed": false
   },
   "source": [
    "### Método 3 (FERR)"
   ]
  },
  {
   "cell_type": "code",
   "execution_count": 12,
   "metadata": {
    "collapsed": false
   },
   "outputs": [
    {
     "name": "stdout",
     "output_type": "stream",
     "text": [
      "\n",
      " A^-1 = \n",
      "(Matrix([\n",
      "[1, 0, 0,  1, 0, -2],\n",
      "[0, 1, 0,  0, 0,  1],\n",
      "[0, 0, 1, -1, 1,  2]]), (0, 1, 2))\n",
      "\n",
      " B^-1 = \n",
      "(Matrix([\n",
      "[1, 0, 0, 25/54,  7/54, -1/54],\n",
      "[0, 1, 0,  -1/6,  -1/6,   1/6],\n",
      "[0, 0, 1,  2/27, -7/27,  1/27]]), (0, 1, 2))\n",
      "\n",
      " C^-1 = \n",
      " No es invertible.\n"
     ]
    }
   ],
   "source": [
    "def FERR(a):\n",
    "    value = 'h' + str(sp.Matrix(a).shape)\n",
    "    identity = sp.eye(int(Valor[2]))\n",
    "    for x in range(0, int(Valor[2])):\n",
    "        Identidad = Identidad.col_insert(x, sp.Matrix(a).col(x))\n",
    "    return Identidad\n",
    "\n",
    "print(\"\\n A^-1 = \\n\" + str(Aumentar(a).rref()))\n",
    "print(\"\\n B^-1 = \\n\" + str(Aumentar(b).rref()))\n",
    "print(\"\\n C^-1 = \\n No es invertible.\")"
   ]
  },
  {
   "cell_type": "markdown",
   "metadata": {
    "collapsed": false
   },
   "source": [
    "What differences do you observe in the output using each method? (25 pts.)\n",
    "\n",
    "The personalized FERR method returns a duple containing the matrix and a count of its columns; the numpy returns floats and simpy returns fractions."
   ]
  },
  {
   "cell_type": "markdown",
   "metadata": {
    "collapsed": false
   },
   "source": [
    "2. Find and interpret the range of matrices A, B and C. (25 pts.)"
   ]
  },
  {
   "cell_type": "code",
   "execution_count": 15,
   "metadata": {
    "collapsed": false
   },
   "outputs": [
    {
     "name": "stdout",
     "output_type": "stream",
     "text": [
      "Range A: 3\n",
      "Range B: 3\n",
      "Range C: 3\n",
      "\n",
      "Interpretación: \n",
      "El rango es la dimensión del espacio renglón, en este caso, las tres matrices tienen renglones de dimensión 3.\n"
     ]
    }
   ],
   "source": [
    "print(\"Rank A = \" + str(np.linalg.matrix_rank(a)))\n",
    "print(\"Rank B = \" + str(np.linalg.matrix_rank(b)))\n",
    "print(\"Rank C = \" + str(np.linalg.matrix_rank(c)))\n",
    "print(\"\\nInterpretación: \\nEl rango es la dimensión del espacio renglón, en este caso, las tres matrices tienen renglones de dimensión 3.\")"
   ]
  },
  {
   "cell_type": "markdown",
   "metadata": {
    "collapsed": false
   },
   "source": [
    "3. Find the nulity and null space of A, B and C. (25 pts.)\n",
    "Debido a que nulity(a) + rank(a) = n, en este caso, la nulidad de las tres matrices es igual a cero."
   ]
  },
  {
   "cell_type": "code",
   "execution_count": 18,
   "metadata": {
    "collapsed": false
   },
   "outputs": [
    {
     "name": "stdout",
     "output_type": "stream",
     "text": [
      "Null base: \n",
      "[]\n",
      "Null base: \n",
      "[]\n",
      "Null base: \n",
      "[]\n"
     ]
    }
   ],
   "source": [
    "print(\"Null base A = \\n\" + str(sp.Matrix(a).nullspace()))\n",
    "print(\"Null base B = \\n\" + str(sp.Matrix(b).nullspace()))\n",
    "print(\"Null base  \\n\" + str(sp.Matrix(c).nullspace()))"
   ]
  },
  {
   "cell_type": "code",
   "execution_count": 0,
   "metadata": {
    "collapsed": false
   },
   "outputs": [
   ],
   "source": [
   ]
  }
 ],
 "metadata": {
  "kernelspec": {
   "display_name": "Python 3 (system-wide)",
   "language": "python",
   "metadata": {
    "cocalc": {
     "description": "Python 3 programming language",
     "priority": 100,
     "url": "https://www.python.org/"
    }
   },
   "name": "python3"
  },
  "language_info": {
   "codemirror_mode": {
    "name": "ipython",
    "version": 3
   },
   "file_extension": ".py",
   "mimetype": "text/x-python",
   "name": "python",
   "nbconvert_exporter": "python",
   "pygments_lexer": "ipython3",
   "version": "3.6.8"
  }
 },
 "nbformat": 4,
 "nbformat_minor": 0
}