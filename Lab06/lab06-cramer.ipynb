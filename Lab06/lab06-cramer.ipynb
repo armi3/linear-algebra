{
 "cells": [
  {
   "cell_type": "markdown",
   "metadata": {
    "collapsed": false
   },
   "source": [
    "# Determinants, Inverses and Cramer Rule.\n",
    "You must print on console each change or operation performed."
   ]
  },
  {
   "cell_type": "code",
   "execution_count": 3,
   "metadata": {
    "collapsed": false
   },
   "outputs": [
   ],
   "source": [
    "import numpy as np\n",
    "import sympy as sp\n",
    "\n",
    "A = np.array([[1, 1, 0], [1, 0, 1], [0, 1, 0]])\n",
    "C = np.array([[1, 1, 0, 1], [1, 0, 1, 0], [0, 1, 0, 0], [0, 1, 0, 1]])\n",
    "b1 = np.array([[1], [2], [4]])\n",
    "b2 = np.array([[1], [8], [4], [5]])"
   ]
  },
  {
   "cell_type": "markdown",
   "metadata": {
    "collapsed": false
   },
   "source": [
    "1. Calculate the determinants and inverses (using numpy and sympy) of A and B. (20 pts.)"
   ]
  },
  {
   "cell_type": "code",
   "execution_count": 9,
   "metadata": {
    "collapsed": false
   },
   "outputs": [
    {
     "name": "stdout",
     "output_type": "stream",
     "text": [
      "\n",
      "Det(A) w/numpy = -1.0\n",
      "Det(A) w/sympy = -1\n",
      "\n",
      "Det(C) w/numpy = -1.0\n",
      "Det(C) w/sympy = -1\n",
      "\n",
      "A^-1 w/numpy = \n",
      " [[ 1.  0. -1.]\n",
      " [-0. -0.  1.]\n",
      " [-1.  1.  1.]]\n",
      "\n",
      "A^-1 w/sympy = \n",
      " Matrix([[1, 0, -1], [0, 0, 1], [-1, 1, 1]])\n",
      "\n",
      "C^-1 w/numpy = \n",
      " [[ 1.  0.  0. -1.]\n",
      " [-0. -0.  1. -0.]\n",
      " [-1.  1.  0.  1.]\n",
      " [ 0.  0. -1.  1.]]\n",
      "\n",
      "C^-1 w/sympy = \n",
      " Matrix([[1, 0, 0, -1], [0, 0, 1, 0], [-1, 1, 0, 1], [0, 0, -1, 1]])\n"
     ]
    }
   ],
   "source": [
    "print(\"\\nDet(A) w/numpy = \" + str(np.linalg.det(A)))\n",
    "print(\"Det(A) w/sympy = \" + str(sp.Matrix(A).det()))\n",
    "\n",
    "print(\"\\nDet(C) w/numpy = \" + str(np.linalg.det(C)))\n",
    "print(\"Det(C) w/sympy = \" + str(sp.Matrix(C).det()))\n",
    "\n",
    "print(\"\\nA^-1 w/numpy = \\n \" + str(np.linalg.inv(A)))\n",
    "print(\"\\nA^-1 w/sympy = \\n \" + str(sp.Matrix(A).inv()))\n",
    "\n",
    "print(\"\\nC^-1 w/numpy = \\n \" + str(np.linalg.inv(C)))\n",
    "print(\"\\nC^-1 w/sympy = \\n \" + str(sp.Matrix(C).inv()))"
   ]
  },
  {
   "cell_type": "markdown",
   "metadata": {
    "collapsed": false
   },
   "source": [
    "2. Solve the systems of equations with numpy, sympy and Cramer. (45 pts.)"
   ]
  },
  {
   "cell_type": "code",
   "execution_count": 15,
   "metadata": {
    "collapsed": false
   },
   "outputs": [
    {
     "name": "stdout",
     "output_type": "stream",
     "text": [
      "[[-3.]\n",
      " [ 4.]\n",
      " [ 5.]]\n",
      "cramer: 0.002012014389038086\n",
      "\n",
      "[[-3.]\n",
      " [ 4.]\n",
      " [ 5.]]\n",
      "numpy: 0.005696535110473633\n",
      "\n",
      "[[-3]\n",
      " [4]\n",
      " [5]]\n",
      "sympy: 0.0013880729675292969\n",
      "\n",
      "[[-4.]\n",
      " [ 4.]\n",
      " [12.]\n",
      " [ 1.]]\n",
      "cramer: 0.0012221336364746094\n",
      "\n",
      "[[-4.]\n",
      " [ 4.]\n",
      " [12.]\n",
      " [ 1.]]\n",
      "numpy: 0.003719806671142578\n",
      "\n",
      "[[-4]\n",
      " [4]\n",
      " [12]\n",
      " [1]]\n",
      "sympy: 0.0009093284606933594\n",
      "\n"
     ]
    }
   ],
   "source": [
    "import time as t\n",
    "\n",
    "def cramer(A,b):\n",
    "    sol = np.zeros((len(b),1))\n",
    "    deta = round(np.linalg.det(A), 16)\n",
    "\n",
    "    for i in range(len(b)):\n",
    "        B = A.copy()\n",
    "        B[:, i] = b.transpose()\n",
    "        detb = round(np.linalg.det(B), 16)\n",
    "        sol[i] = (detb / deta)\n",
    "    return sol\n",
    "\n",
    "#A\n",
    "start=t.time()\n",
    "print(cramer(A, b1))\n",
    "print(\"cramer: \"+str(t.time()-start) + \"\\n\")\n",
    "\n",
    "start=t.time()\n",
    "print(np.dot(inva, b1))\n",
    "print(\"numpy: \"+str(t.time()-start)+ \"\\n\")\n",
    "\n",
    "start=t.time()\n",
    "print(np.dot(inva2, b1))\n",
    "print(\"sympy: \"+str(t.time()-start)+ \"\\n\")"
   ]
  },
  {
   "cell_type": "code",
   "execution_count": 16,
   "metadata": {
    "collapsed": false
   },
   "outputs": [
    {
     "name": "stdout",
     "output_type": "stream",
     "text": [
      "[[-4.]\n",
      " [ 4.]\n",
      " [12.]\n",
      " [ 1.]]\n",
      "cramer: 0.04606151580810547\n",
      "\n",
      "[[-4.]\n",
      " [ 4.]\n",
      " [12.]\n",
      " [ 1.]]\n",
      "numpy: 0.0007948875427246094\n",
      "\n",
      "[[-4]\n",
      " [4]\n",
      " [12]\n",
      " [1]]\n",
      "sympy: 0.0011162757873535156\n",
      "\n"
     ]
    }
   ],
   "source": [
    "#C\n",
    "start = t.time()\n",
    "print(cramer(C, b2))\n",
    "print(\"cramer: \"+str(t.time()-start)+ \"\\n\")\n",
    "\n",
    "start = t.time()\n",
    "print(np.dot(avni, b2))\n",
    "print(\"numpy: \"+str(t.time()-start)+ \"\\n\")\n",
    "\n",
    "start = t.time()\n",
    "print(np.dot(avni2, b2))\n",
    "print(\"sympy: \"+str(t.time()-start)+ \"\\n\")"
   ]
  },
  {
   "cell_type": "markdown",
   "metadata": {
    "collapsed": false
   },
   "source": [
    "3. Create a C 100 𝑥 100 matrix with random inputs and a d 100 𝑥 1 vector with random inputs. Print the time it takes for each method to solve the system of equations Cx = d using all three methods. (10 pts.)"
   ]
  },
  {
   "cell_type": "code",
   "execution_count": 21,
   "metadata": {
    "collapsed": false
   },
   "outputs": [
    {
     "name": "stdout",
     "output_type": "stream",
     "text": [
      "cramer:0.6012065410614014\n",
      "\n",
      "numpy:0.00319671630859375\n",
      "\n"
     ]
    },
    {
     "name": "stdout",
     "output_type": "stream",
     "text": [
      "sympy:29.265457153320312\n",
      "\n"
     ]
    }
   ],
   "source": [
    "n = 100\n",
    "c = np.random.rand(n, n)\n",
    "d = np.random.rand(n, 1)\n",
    "\n",
    "#Cramer\n",
    "init = t.time()\n",
    "cramer(c, d)\n",
    "end = t.time()\n",
    "print(\"cramer:\" + str(end-init) + \"\\n\")\n",
    "\n",
    "#Numpy\n",
    "init = t.time()\n",
    "np.matmul(np.linalg.inv(c),d)\n",
    "end = t.time()\n",
    "print(\"numpy:\" + str(end-init)+ \"\\n\")\n",
    "\n",
    "#Sympy\n",
    "init = t.time()\n",
    "irs = sp.Matrix(c).inv()\n",
    "np.dot(irs, d)\n",
    "end = t.time()\n",
    "print(\"sympy:\" + str(end-init)+ \"\\n\")"
   ]
  },
  {
   "cell_type": "markdown",
   "metadata": {
    "collapsed": false
   },
   "source": [
    "4. Create a C 500 𝑥 500 matrix with random inputs and a d 100 𝑥 1 vector with random inputs. Print the time it takes for each method to solve the system of equations Cx = d using all three methods. (10 pts.)"
   ]
  },
  {
   "cell_type": "code",
   "execution_count": 22,
   "metadata": {
    "collapsed": false
   },
   "outputs": [
    {
     "name": "stderr",
     "output_type": "stream",
     "text": [
      "/usr/local/lib/python3.6/dist-packages/ipykernel/__main__.py:5: RuntimeWarning: overflow encountered in multiply\n",
      "/usr/local/lib/python3.6/dist-packages/ipykernel/__main__.py:10: RuntimeWarning: overflow encountered in multiply\n",
      "/usr/local/lib/python3.6/dist-packages/ipykernel/__main__.py:11: RuntimeWarning: invalid value encountered in double_scalars\n"
     ]
    }
   ],
   "source": [
    "n = 500\n",
    "c = np.random.rand(n, n)\n",
    "d = np.random.rand(n, 1)\n",
    "\n",
    "#Cramer\n",
    "init = t.time()\n",
    "cramer(c, d)\n",
    "end = t.time()\n",
    "print(\"cramer:\" + str(end-init) + \"\\n\")\n",
    "\n",
    "#Numpy\n",
    "init = t.time()\n",
    "np.matmul(np.linalg.inv(c),d)\n",
    "end = t.time()\n",
    "print(\"numpy:\" + str(end-init)+ \"\\n\")\n",
    "\n",
    "#Sympy\n",
    "init = t.time()\n",
    "irs = sp.Matrix(c).inv()\n",
    "np.dot(irs, d)\n",
    "end = t.time()\n",
    "print(\"sympy:\" + str(end-init)+ \"\\n\")"
   ]
  },
  {
   "cell_type": "markdown",
   "metadata": {
    "collapsed": false
   },
   "source": [
    "5. Explain what differences you notice in the use of the 3 methods to solve systems of equations Cx = d. (15 pts.)"
   ]
  },
  {
   "cell_type": "markdown",
   "metadata": {
    "collapsed": false
   },
   "source": [
    "Numpy was the most efficient method, while Simpy throws an overflow. Cramer is less efficient than Numpy but does the trick as well."
   ]
  },
  {
   "cell_type": "code",
   "execution_count": 0,
   "metadata": {
    "collapsed": false
   },
   "outputs": [
   ],
   "source": [
   ]
  }
 ],
 "metadata": {
  "kernelspec": {
   "display_name": "Python 3 (system-wide)",
   "language": "python",
   "metadata": {
    "cocalc": {
     "description": "Python 3 programming language",
     "priority": 100,
     "url": "https://www.python.org/"
    }
   },
   "name": "python3"
  },
  "language_info": {
   "codemirror_mode": {
    "name": "ipython",
    "version": 3
   },
   "file_extension": ".py",
   "mimetype": "text/x-python",
   "name": "python",
   "nbconvert_exporter": "python",
   "pygments_lexer": "ipython3",
   "version": "3.6.8"
  }
 },
 "nbformat": 4,
 "nbformat_minor": 0
}